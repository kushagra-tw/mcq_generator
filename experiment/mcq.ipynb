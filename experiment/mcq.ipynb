{
 "cells": [
  {
   "cell_type": "code",
   "execution_count": 193,
   "metadata": {},
   "outputs": [],
   "source": [
    "import os, json\n",
    "import pandas as pd\n",
    "import traceback\n",
    "from langchain.chat_models import ChatOpenAI\n",
    "from dotenv import load_dotenv\n",
    "from langchain.llms import OpenAI\n",
    "from langchain.prompts import PromptTemplate\n",
    "from langchain.chains import LLMChain\n",
    "from langchain.chains import SequentialChain\n",
    "from langchain.callbacks import get_openai_callback\n",
    "import PyPDF2"
   ]
  },
  {
   "cell_type": "code",
   "execution_count": 195,
   "metadata": {},
   "outputs": [
    {
     "data": {
      "text/plain": [
       "True"
      ]
     },
     "execution_count": 195,
     "metadata": {},
     "output_type": "execute_result"
    }
   ],
   "source": [
    "#can use export to set environment variable.(temporary way)\n",
    "#can set environment variable in zsh(is a global approach)\n",
    "#create a .env file and fetch it from there(for project scope)\n",
    "\n",
    "#once we have created a .env file then we would have to load the env file.\n",
    "#we can use python dotenv package to load the .env file\n",
    "\n",
    "load_dotenv()\n"
   ]
  },
  {
   "cell_type": "code",
   "execution_count": 196,
   "metadata": {},
   "outputs": [],
   "source": [
    "KEY = os.getenv('OPENAI_API_KEY')"
   ]
  },
  {
   "cell_type": "code",
   "execution_count": 198,
   "metadata": {},
   "outputs": [],
   "source": [
    "def key_value_pair(argument):\n",
    "    d = {}\n",
    "    key = argument.split(\"=\")[0]\n",
    "    value = argument.split('=')[1]\n",
    "    d[key] = value\n",
    "    return d"
   ]
  },
  {
   "cell_type": "code",
   "execution_count": 199,
   "metadata": {},
   "outputs": [],
   "source": [
    "args = key_value_pair(KEY)\n"
   ]
  },
  {
   "cell_type": "code",
   "execution_count": 200,
   "metadata": {},
   "outputs": [],
   "source": [
    "llm = ChatOpenAI(openai_api_key=args['OPENAI_API_KEY'],model_name='gpt-3.5-turbo',temperature=0.5)"
   ]
  },
  {
   "cell_type": "code",
   "execution_count": 202,
   "metadata": {},
   "outputs": [],
   "source": [
    "response_json = {\n",
    "    \"1\":{\n",
    "        \"mcq\":\"multiple choice question\",\n",
    "        \"options\":{\n",
    "            \"a\":\"choice here\",\n",
    "            \"b\":\"choice here\",\n",
    "            \"c\":\"choice here\",\n",
    "            \"d\":\"choice here\"\n",
    "        },\n",
    "        \"correct\":\"correct answer\",\n",
    "\n",
    "    },\n",
    "    \"2\":{\n",
    "        \"mcq\":\"multiple choice question\",\n",
    "        \"options\":{\n",
    "            \"a\":\"choice here\",\n",
    "            \"b\":\"choice here\",\n",
    "            \"c\":\"choice here\",\n",
    "            \"d\":\"choice here\"\n",
    "        },\n",
    "        \"correct\":\"correct answer\",\n",
    "\n",
    "    },\n",
    "    \"3\":{\n",
    "        \"mcq\":\"multiple choice question\",\n",
    "        \"options\":{\n",
    "            \"a\":\"choice here\",\n",
    "            \"b\":\"choice here\",\n",
    "            \"c\":\"choice here\",\n",
    "            \"d\":\"choice here\"\n",
    "        },\n",
    "        \"correct\":\"correct answer\",\n",
    "\n",
    "    },\n",
    "    \"4\":{\n",
    "        \"mcq\":\"multiple choice question\",\n",
    "        \"options\":{\n",
    "            \"a\":\"choice here\",\n",
    "            \"b\":\"choice here\",\n",
    "            \"c\":\"choice here\",\n",
    "            \"d\":\"choice here\"\n",
    "        },\n",
    "        \"correct\":\"correct answer\",\n",
    "\n",
    "    }\n",
    "}\n",
    "template = \"\"\"\n",
    "Text:{input_text}\n",
    "You are an expert MCQ maker. Given the above text, it is your job to \\\n",
    "create a quiz of {number} multiple choice questions for {subject} students in {tone} tone.\n",
    "Make sure questions are not repeated and check all the questions to be conforming the text as well.\n",
    "Make sure to format response like response_json below and use it as a guide. \\\n",
    "Ensure to make {number} MCQs\n",
    "### response_json\n",
    "{response_json} \n",
    "\n",
    "\"\"\"\n",
    "\n",
    "#['text','number','subjext','tone','response_json'] are the variable which user will be passing\n",
    "mcq_generation_prompt = PromptTemplate(\n",
    "    input_variables=['input_text','number','subject','tone','response_json'],\n",
    "    template=template\n",
    ")"
   ]
  },
  {
   "cell_type": "code",
   "execution_count": 206,
   "metadata": {},
   "outputs": [],
   "source": [
    "#now we would be using llm chains to connect several components together..\n",
    "#in this we would be connecting our llm and prompt together\n",
    "\n",
    "quiz_chain = LLMChain(llm=llm,\n",
    "                      prompt=mcq_generation_prompt,\n",
    "                      output_key=\"quiz\",\n",
    "                      verbose=True)"
   ]
  },
  {
   "cell_type": "code",
   "execution_count": 207,
   "metadata": {},
   "outputs": [],
   "source": [
    "template2 = \"\"\"\n",
    "You are an expert english gramarian and writer. Given a Multiple choice quiz for {subject} students. \\\n",
    "You need to evaluate the complexity of the question and give a complete analysis of the quiz. Only use max of 50 words for complexity.\n",
    "If the quiz is not at per with cognitive and analytical abilities of the students.\\\n",
    "update the quiz questions which needs to be changed and change the tone such that it perfectly fits with student abilities.\n",
    "quic mcqs:\n",
    "{quiz}\n",
    "\"\"\"\n",
    "quiz_evaluation_prompt = PromptTemplate(input_variables=['subject','quiz'],template=template2)"
   ]
  },
  {
   "cell_type": "code",
   "execution_count": 209,
   "metadata": {},
   "outputs": [],
   "source": [
    "review_chain = LLMChain(llm = llm,\n",
    "                        prompt = quiz_evaluation_prompt,\n",
    "                        output_key=\"reviews\",\n",
    "                        \n",
    "                        verbose=True)"
   ]
  },
  {
   "cell_type": "code",
   "execution_count": 210,
   "metadata": {},
   "outputs": [],
   "source": [
    "generate_evaluate_chain = SequentialChain(chains = [quiz_chain,review_chain],\n",
    "                                          input_variables = ['input_text','number','subject','tone','response_json'],\n",
    "                                          output_variables = ['quiz','reviews'],\n",
    "                                          verbose = True,)"
   ]
  },
  {
   "cell_type": "code",
   "execution_count": 212,
   "metadata": {},
   "outputs": [],
   "source": [
    "file_path = '/Users/kushagra/gen_ai/mcq_generator/data.txt'\n",
    "with open (file_path,'r') as file:\n",
    "    text = file.read()\n",
    "\n"
   ]
  },
  {
   "cell_type": "code",
   "execution_count": 214,
   "metadata": {},
   "outputs": [],
   "source": [
    "number = 5\n",
    "subject = \"machine learning\"\n",
    "tone = \"simple\""
   ]
  },
  {
   "cell_type": "code",
   "execution_count": 215,
   "metadata": {},
   "outputs": [
    {
     "name": "stdout",
     "output_type": "stream",
     "text": [
      "\n",
      "\n",
      "\u001b[1m> Entering new SequentialChain chain...\u001b[0m\n",
      "\n",
      "\n",
      "\u001b[1m> Entering new LLMChain chain...\u001b[0m\n",
      "Prompt after formatting:\n",
      "\u001b[32;1m\u001b[1;3m\n",
      "Text:The term machine learning was coined in 1959 by Arthur Samuel, an IBM employee and pioneer in the field of computer gaming and artificial intelligence.[8][9] The synonym self-teaching computers was also used in this time period.[10][11]\n",
      "\n",
      "Although the earliest machine learning model was introduced in the 1950s when Arthur Samuel invented a program that calculated the winning chance in checkers for each side, the history of machine learning roots back to decades of human desire and effort to study human cognitive processes.[12] In 1949, Canadian psychologist Donald Hebb published the book The Organization of Behavior, in which he introduced a theoretical neural structure formed by certain interactions among nerve cells.[13] Hebb's model of neurons interacting with one another set a groundwork for how AIs and machine learning algorithms work under nodes, or artificial neurons used by computers to communicate data.[12] Other researchers who have studied human cognitive systems contributed to the modern machine learning technologies as well, including logician Walter Pitts and Warren McCulloch, who proposed the early mathematical models of neural networks to come up with algorithms that mirror human thought processes.[12]\n",
      "\n",
      "By the early 1960s, an experimental \"learning machine\" with punched tape memory, called Cybertron, had been developed by Raytheon Company to analyse sonar signals, electrocardiograms, and speech patterns using rudimentary reinforcement learning. It was repetitively \"trained\" by a human operator/teacher to recognize patterns and equipped with a \"goof\" button to cause it to reevaluate incorrect decisions.[14] A representative book on research into machine learning during the 1960s was Nilsson's book on Learning Machines, dealing mostly with machine learning for pattern classification.[15] Interest related to pattern recognition continued into the 1970s, as described by Duda and Hart in 1973.[16] In 1981 a report was given on using teaching strategies so that an artificial neural network learns to recognize 40 characters (26 letters, 10 digits, and 4 special symbols) from a computer terminal.[17]\n",
      "\n",
      "Tom M. Mitchell provided a widely quoted, more formal definition of the algorithms studied in the machine learning field: \"A computer program is said to learn from experience E with respect to some class of tasks T and performance measure P if its performance at tasks in T, as measured by P, improves with experience E.\"[18] This definition of the tasks in which machine learning is concerned offers a fundamentally operational definition rather than defining the field in cognitive terms. This follows Alan Turing's proposal in his paper \"Computing Machinery and Intelligence\", in which the question \"Can machines think?\" is replaced with the question \"Can machines do what we (as thinking entities) can do?\".[19]\n",
      "\n",
      "Modern-day machine learning has two objectives. One is to classify data based on models which have been developed; the other purpose is to make predictions for future outcomes based on these models. A hypothetical algorithm specific to classifying data may use computer vision of moles coupled with supervised learning in order to train it to classify the cancerous moles. A machine learning algorithm for stock trading may inform the trader of future potential predictions.\n",
      "You are an expert MCQ maker. Given the above text, it is your job to create a quiz of 5 multiple choice questions for machine learning students in simple tone.\n",
      "Make sure questions are not repeated and check all the questions to be conforming the text as well.\n",
      "Make sure to format response like response_json below and use it as a guide. Ensure to make 5 MCQs\n",
      "### response_json\n",
      "{\"1\": {\"mcq\": \"multiple choice question\", \"options\": {\"a\": \"choice here\", \"b\": \"choice here\", \"c\": \"choice here\", \"d\": \"choice here\"}, \"correct\": \"correct answer\"}, \"2\": {\"mcq\": \"multiple choice question\", \"options\": {\"a\": \"choice here\", \"b\": \"choice here\", \"c\": \"choice here\", \"d\": \"choice here\"}, \"correct\": \"correct answer\"}, \"3\": {\"mcq\": \"multiple choice question\", \"options\": {\"a\": \"choice here\", \"b\": \"choice here\", \"c\": \"choice here\", \"d\": \"choice here\"}, \"correct\": \"correct answer\"}, \"4\": {\"mcq\": \"multiple choice question\", \"options\": {\"a\": \"choice here\", \"b\": \"choice here\", \"c\": \"choice here\", \"d\": \"choice here\"}, \"correct\": \"correct answer\"}} \n",
      "\n",
      "\u001b[0m\n",
      "\n",
      "\u001b[1m> Finished chain.\u001b[0m\n",
      "\n",
      "\n",
      "\u001b[1m> Entering new LLMChain chain...\u001b[0m\n",
      "Prompt after formatting:\n",
      "\u001b[32;1m\u001b[1;3m\n",
      "You are an expert english gramarian and writer. Given a Multiple choice quiz for machine learning students. You need to evaluate the complexity of the question and give a complete analysis of the quiz. Only use max of 50 words for complexity.\n",
      "If the quiz is not at per with cognitive and analytical abilities of the students.update the quiz questions which needs to be changed and change the tone such that it perfectly fits with student abilities.\n",
      "quic mcqs:\n",
      "{\n",
      "\"1\": {\n",
      "\"mcq\": \"Who coined the term machine learning in 1959?\",\n",
      "\"options\": {\n",
      "\"a\": \"Alan Turing\",\n",
      "\"b\": \"Donald Hebb\",\n",
      "\"c\": \"Arthur Samuel\",\n",
      "\"d\": \"Tom M. Mitchell\"\n",
      "},\n",
      "\"correct\": \"c\"\n",
      "},\n",
      "\"2\": {\n",
      "\"mcq\": \"What was the name of the experimental 'learning machine' developed by Raytheon Company in the early 1960s?\",\n",
      "\"options\": {\n",
      "\"a\": \"Cyberdyne\",\n",
      "\"b\": \"Cybernet\",\n",
      "\"c\": \"Cybertron\",\n",
      "\"d\": \"Cyberspace\"\n",
      "},\n",
      "\"correct\": \"c\"\n",
      "},\n",
      "\"3\": {\n",
      "\"mcq\": \"Who proposed the early mathematical models of neural networks that inspired machine learning algorithms?\",\n",
      "\"options\": {\n",
      "\"a\": \"Walter Pitts\",\n",
      "\"b\": \"Warren McCulloch\",\n",
      "\"c\": \"Donald Hebb\",\n",
      "\"d\": \"Raytheon Company\"\n",
      "},\n",
      "\"correct\": \"a\"\n",
      "},\n",
      "\"4\": {\n",
      "\"mcq\": \"What is the main purpose of modern-day machine learning algorithms?\",\n",
      "\"options\": {\n",
      "\"a\": \"To confuse data\",\n",
      "\"b\": \"To make predictions for future outcomes\",\n",
      "\"c\": \"To hide patterns\",\n",
      "\"d\": \"To complicate tasks\"\n",
      "},\n",
      "\"correct\": \"b\"\n",
      "},\n",
      "\"5\": {\n",
      "\"mcq\": \"According to Tom M. Mitchell, what is the definition of a computer program learning from experience?\",\n",
      "\"options\": {\n",
      "\"a\": \"Its performance at tasks in T improves with experience E\",\n",
      "\"b\": \"It can think like a human\",\n",
      "\"c\": \"It can do what we can do as thinking entities\",\n",
      "\"d\": \"It can classify data based on models\"\n",
      "},\n",
      "\"correct\": \"a\"\n",
      "}\n",
      "}\n",
      "\u001b[0m\n",
      "\n",
      "\u001b[1m> Finished chain.\u001b[0m\n",
      "\n",
      "\u001b[1m> Finished chain.\u001b[0m\n",
      "Tokens Used: 1808\n",
      "\tPrompt Tokens: 1398\n",
      "\t\tPrompt Tokens Cached: 0\n",
      "\tCompletion Tokens: 410\n",
      "\t\tReasoning Tokens: 0\n",
      "Successful Requests: 2\n",
      "Total Cost (USD): $0.002917\n"
     ]
    }
   ],
   "source": [
    "with get_openai_callback() as cb:\n",
    "    response = generate_evaluate_chain(\n",
    "        {\n",
    "            'input_text':text,\n",
    "            'number':number,\n",
    "            'subject':subject,\n",
    "            'tone':tone,\n",
    "            'response_json':json.dumps(response_json)\n",
    "        }\n",
    "    )"
   ]
  },
  {
   "cell_type": "code",
   "execution_count": 218,
   "metadata": {},
   "outputs": [
    {
     "name": "stdout",
     "output_type": "stream",
     "text": [
      "total_tokens: 1808\n",
      "prompt_token:1398\n",
      "completion_tokens:410\n",
      "total_cost:0.002917\n"
     ]
    }
   ],
   "source": [
    "print(f\"total_tokens: {cb.total_tokens}\")\n",
    "print(f\"prompt_token:{cb.prompt_tokens}\")\n",
    "print(f\"completion_tokens:{cb.completion_tokens}\")\n",
    "print(f\"total_cost:{cb.total_cost}\")"
   ]
  },
  {
   "cell_type": "code",
   "execution_count": 220,
   "metadata": {},
   "outputs": [
    {
     "data": {
      "text/plain": [
       "{'input_text': 'The term machine learning was coined in 1959 by Arthur Samuel, an IBM employee and pioneer in the field of computer gaming and artificial intelligence.[8][9] The synonym self-teaching computers was also used in this time period.[10][11]\\n\\nAlthough the earliest machine learning model was introduced in the 1950s when Arthur Samuel invented a program that calculated the winning chance in checkers for each side, the history of machine learning roots back to decades of human desire and effort to study human cognitive processes.[12] In 1949, Canadian psychologist Donald Hebb published the book The Organization of Behavior, in which he introduced a theoretical neural structure formed by certain interactions among nerve cells.[13] Hebb\\'s model of neurons interacting with one another set a groundwork for how AIs and machine learning algorithms work under nodes, or artificial neurons used by computers to communicate data.[12] Other researchers who have studied human cognitive systems contributed to the modern machine learning technologies as well, including logician Walter Pitts and Warren McCulloch, who proposed the early mathematical models of neural networks to come up with algorithms that mirror human thought processes.[12]\\n\\nBy the early 1960s, an experimental \"learning machine\" with punched tape memory, called Cybertron, had been developed by Raytheon Company to analyse sonar signals, electrocardiograms, and speech patterns using rudimentary reinforcement learning. It was repetitively \"trained\" by a human operator/teacher to recognize patterns and equipped with a \"goof\" button to cause it to reevaluate incorrect decisions.[14] A representative book on research into machine learning during the 1960s was Nilsson\\'s book on Learning Machines, dealing mostly with machine learning for pattern classification.[15] Interest related to pattern recognition continued into the 1970s, as described by Duda and Hart in 1973.[16] In 1981 a report was given on using teaching strategies so that an artificial neural network learns to recognize 40 characters (26 letters, 10 digits, and 4 special symbols) from a computer terminal.[17]\\n\\nTom M. Mitchell provided a widely quoted, more formal definition of the algorithms studied in the machine learning field: \"A computer program is said to learn from experience E with respect to some class of tasks T and performance measure P if its performance at tasks in T, as measured by P, improves with experience E.\"[18] This definition of the tasks in which machine learning is concerned offers a fundamentally operational definition rather than defining the field in cognitive terms. This follows Alan Turing\\'s proposal in his paper \"Computing Machinery and Intelligence\", in which the question \"Can machines think?\" is replaced with the question \"Can machines do what we (as thinking entities) can do?\".[19]\\n\\nModern-day machine learning has two objectives. One is to classify data based on models which have been developed; the other purpose is to make predictions for future outcomes based on these models. A hypothetical algorithm specific to classifying data may use computer vision of moles coupled with supervised learning in order to train it to classify the cancerous moles. A machine learning algorithm for stock trading may inform the trader of future potential predictions.',\n",
       " 'number': 5,\n",
       " 'subject': 'machine learning',\n",
       " 'tone': 'simple',\n",
       " 'response_json': '{\"1\": {\"mcq\": \"multiple choice question\", \"options\": {\"a\": \"choice here\", \"b\": \"choice here\", \"c\": \"choice here\", \"d\": \"choice here\"}, \"correct\": \"correct answer\"}, \"2\": {\"mcq\": \"multiple choice question\", \"options\": {\"a\": \"choice here\", \"b\": \"choice here\", \"c\": \"choice here\", \"d\": \"choice here\"}, \"correct\": \"correct answer\"}, \"3\": {\"mcq\": \"multiple choice question\", \"options\": {\"a\": \"choice here\", \"b\": \"choice here\", \"c\": \"choice here\", \"d\": \"choice here\"}, \"correct\": \"correct answer\"}, \"4\": {\"mcq\": \"multiple choice question\", \"options\": {\"a\": \"choice here\", \"b\": \"choice here\", \"c\": \"choice here\", \"d\": \"choice here\"}, \"correct\": \"correct answer\"}}',\n",
       " 'quiz': '{\\n\"1\": {\\n\"mcq\": \"Who coined the term machine learning in 1959?\",\\n\"options\": {\\n\"a\": \"Alan Turing\",\\n\"b\": \"Donald Hebb\",\\n\"c\": \"Arthur Samuel\",\\n\"d\": \"Tom M. Mitchell\"\\n},\\n\"correct\": \"c\"\\n},\\n\"2\": {\\n\"mcq\": \"What was the name of the experimental \\'learning machine\\' developed by Raytheon Company in the early 1960s?\",\\n\"options\": {\\n\"a\": \"Cyberdyne\",\\n\"b\": \"Cybernet\",\\n\"c\": \"Cybertron\",\\n\"d\": \"Cyberspace\"\\n},\\n\"correct\": \"c\"\\n},\\n\"3\": {\\n\"mcq\": \"Who proposed the early mathematical models of neural networks that inspired machine learning algorithms?\",\\n\"options\": {\\n\"a\": \"Walter Pitts\",\\n\"b\": \"Warren McCulloch\",\\n\"c\": \"Donald Hebb\",\\n\"d\": \"Raytheon Company\"\\n},\\n\"correct\": \"a\"\\n},\\n\"4\": {\\n\"mcq\": \"What is the main purpose of modern-day machine learning algorithms?\",\\n\"options\": {\\n\"a\": \"To confuse data\",\\n\"b\": \"To make predictions for future outcomes\",\\n\"c\": \"To hide patterns\",\\n\"d\": \"To complicate tasks\"\\n},\\n\"correct\": \"b\"\\n},\\n\"5\": {\\n\"mcq\": \"According to Tom M. Mitchell, what is the definition of a computer program learning from experience?\",\\n\"options\": {\\n\"a\": \"Its performance at tasks in T improves with experience E\",\\n\"b\": \"It can think like a human\",\\n\"c\": \"It can do what we can do as thinking entities\",\\n\"d\": \"It can classify data based on models\"\\n},\\n\"correct\": \"a\"\\n}\\n}',\n",
       " 'reviews': 'The complexity of the quiz questions is appropriate for machine learning students. The questions cover key historical figures, concepts, and definitions in the field. The tone is academic and challenging, encouraging critical thinking and knowledge retention. No changes are necessary.'}"
      ]
     },
     "execution_count": 220,
     "metadata": {},
     "output_type": "execute_result"
    }
   ],
   "source": [
    "response"
   ]
  },
  {
   "cell_type": "code",
   "execution_count": 225,
   "metadata": {},
   "outputs": [],
   "source": [
    "quiz = json.loads(response['quiz'])"
   ]
  },
  {
   "cell_type": "code",
   "execution_count": 253,
   "metadata": {},
   "outputs": [
    {
     "data": {
      "text/plain": [
       "[{'MCQ': 'Who coined the term machine learning in 1959?',\n",
       "  'Choices': 'a: Alan Turing | b: Donald Hebb | c: Arthur Samuel | d: Tom M. Mitchell | ',\n",
       "  'Correct Answer': 'c'},\n",
       " {'MCQ': \"What was the name of the experimental 'learning machine' developed by Raytheon Company in the early 1960s?\",\n",
       "  'Choices': 'a: Cyberdyne | b: Cybernet | c: Cybertron | d: Cyberspace | ',\n",
       "  'Correct Answer': 'c'},\n",
       " {'MCQ': 'Who proposed the early mathematical models of neural networks that inspired machine learning algorithms?',\n",
       "  'Choices': 'a: Walter Pitts | b: Warren McCulloch | c: Donald Hebb | d: Raytheon Company | ',\n",
       "  'Correct Answer': 'a'},\n",
       " {'MCQ': 'What is the main purpose of modern-day machine learning algorithms?',\n",
       "  'Choices': 'a: To confuse data | b: To make predictions for future outcomes | c: To hide patterns | d: To complicate tasks | ',\n",
       "  'Correct Answer': 'b'},\n",
       " {'MCQ': 'According to Tom M. Mitchell, what is the definition of a computer program learning from experience?',\n",
       "  'Choices': 'a: Its performance at tasks in T improves with experience E | b: It can think like a human | c: It can do what we can do as thinking entities | d: It can classify data based on models | ',\n",
       "  'Correct Answer': 'a'}]"
      ]
     },
     "execution_count": 253,
     "metadata": {},
     "output_type": "execute_result"
    }
   ],
   "source": [
    "# data prep for creating dataframe \n",
    "quiz_table_data = []\n",
    "for key,value in quiz.items():\n",
    "    temp_dict = {}\n",
    "    temp_dict['MCQ'] = value['mcq']\n",
    "    choices = value['options']\n",
    "    choices_str = ''\n",
    "    for choices_key,choices_value in choices.items():\n",
    "        choices_str = choices_str + choices_key +': ' + choices_value + ' |' + ' '\n",
    "    temp_dict['Choices'] = choices_str\n",
    "    temp_dict['Correct Answer'] = value['correct']\n",
    "    quiz_table_data.append(temp_dict)\n",
    "\n",
    "quiz_table_data\n"
   ]
  },
  {
   "cell_type": "code",
   "execution_count": 256,
   "metadata": {},
   "outputs": [
    {
     "data": {
      "text/html": [
       "<div>\n",
       "<style scoped>\n",
       "    .dataframe tbody tr th:only-of-type {\n",
       "        vertical-align: middle;\n",
       "    }\n",
       "\n",
       "    .dataframe tbody tr th {\n",
       "        vertical-align: top;\n",
       "    }\n",
       "\n",
       "    .dataframe thead th {\n",
       "        text-align: right;\n",
       "    }\n",
       "</style>\n",
       "<table border=\"1\" class=\"dataframe\">\n",
       "  <thead>\n",
       "    <tr style=\"text-align: right;\">\n",
       "      <th></th>\n",
       "      <th>MCQ</th>\n",
       "      <th>Choices</th>\n",
       "      <th>Correct Answer</th>\n",
       "    </tr>\n",
       "  </thead>\n",
       "  <tbody>\n",
       "    <tr>\n",
       "      <th>0</th>\n",
       "      <td>Who coined the term machine learning in 1959?</td>\n",
       "      <td>a: Alan Turing | b: Donald Hebb | c: Arthur Sa...</td>\n",
       "      <td>c</td>\n",
       "    </tr>\n",
       "    <tr>\n",
       "      <th>1</th>\n",
       "      <td>What was the name of the experimental 'learnin...</td>\n",
       "      <td>a: Cyberdyne | b: Cybernet | c: Cybertron | d:...</td>\n",
       "      <td>c</td>\n",
       "    </tr>\n",
       "    <tr>\n",
       "      <th>2</th>\n",
       "      <td>Who proposed the early mathematical models of ...</td>\n",
       "      <td>a: Walter Pitts | b: Warren McCulloch | c: Don...</td>\n",
       "      <td>a</td>\n",
       "    </tr>\n",
       "    <tr>\n",
       "      <th>3</th>\n",
       "      <td>What is the main purpose of modern-day machine...</td>\n",
       "      <td>a: To confuse data | b: To make predictions fo...</td>\n",
       "      <td>b</td>\n",
       "    </tr>\n",
       "    <tr>\n",
       "      <th>4</th>\n",
       "      <td>According to Tom M. Mitchell, what is the defi...</td>\n",
       "      <td>a: Its performance at tasks in T improves with...</td>\n",
       "      <td>a</td>\n",
       "    </tr>\n",
       "  </tbody>\n",
       "</table>\n",
       "</div>"
      ],
      "text/plain": [
       "                                                 MCQ  \\\n",
       "0      Who coined the term machine learning in 1959?   \n",
       "1  What was the name of the experimental 'learnin...   \n",
       "2  Who proposed the early mathematical models of ...   \n",
       "3  What is the main purpose of modern-day machine...   \n",
       "4  According to Tom M. Mitchell, what is the defi...   \n",
       "\n",
       "                                             Choices Correct Answer  \n",
       "0  a: Alan Turing | b: Donald Hebb | c: Arthur Sa...              c  \n",
       "1  a: Cyberdyne | b: Cybernet | c: Cybertron | d:...              c  \n",
       "2  a: Walter Pitts | b: Warren McCulloch | c: Don...              a  \n",
       "3  a: To confuse data | b: To make predictions fo...              b  \n",
       "4  a: Its performance at tasks in T improves with...              a  "
      ]
     },
     "execution_count": 256,
     "metadata": {},
     "output_type": "execute_result"
    }
   ],
   "source": [
    "#creating dataframe\n",
    "quiz = pd.DataFrame(quiz_table_data)"
   ]
  },
  {
   "cell_type": "code",
   "execution_count": 257,
   "metadata": {},
   "outputs": [],
   "source": [
    "quiz.to_csv(\"machinelearning.csv\",index=False)"
   ]
  }
 ],
 "metadata": {
  "kernelspec": {
   "display_name": ".venv",
   "language": "python",
   "name": "python3"
  },
  "language_info": {
   "codemirror_mode": {
    "name": "ipython",
    "version": 3
   },
   "file_extension": ".py",
   "mimetype": "text/x-python",
   "name": "python",
   "nbconvert_exporter": "python",
   "pygments_lexer": "ipython3",
   "version": "3.12.2"
  }
 },
 "nbformat": 4,
 "nbformat_minor": 2
}
